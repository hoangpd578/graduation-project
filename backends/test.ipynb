{
 "cells": [
  {
   "cell_type": "code",
   "execution_count": 11,
   "metadata": {
    "collapsed": true
   },
   "outputs": [],
   "source": [
    "import os\n",
    "import numpy as np\n",
    "from imutils import paths\n",
    "import imutils"
   ]
  },
  {
   "cell_type": "code",
   "execution_count": 2,
   "outputs": [
    {
     "name": "stdout",
     "output_type": "stream",
     "text": [
      "['info.txt']\n",
      "[]\n",
      "[]\n",
      "[]\n",
      "['00_50_27_16.jpg', '00_50_27_19.jpg', '00_50_27_20.jpg', '00_50_28_21.jpg', '00_50_26_13.jpg', '00_50_26_15.jpg', '00_50_24_6.jpg', '00_50_26_14.jpg', '00_50_25_7.jpg', '00_50_27_17.jpg', '00_50_26_12.jpg', '00_50_24_4.jpg', '00_50_25_9.jpg', '00_50_24_5.jpg', '00_50_25_8.jpg', '00_50_27_18.jpg', '00_50_24_2.jpg', '00_50_24_3.jpg', '00_50_25_11.jpg', '00_50_25_10.jpg', '00_50_23_1.jpg']\n",
      "[]\n",
      "['17_33_12_21.jpg', '17_33_10_12.jpg', '17_33_10_8.jpg', '17_33_09_3.jpg', '17_33_11_13.jpg', '17_33_09_7.jpg', '17_33_09_5.jpg', '17_33_11_15.jpg', '17_33_10_10.jpg', '17_33_12_19.jpg', '17_33_12_18.jpg', '17_33_08_1.jpg', '17_33_09_6.jpg', '17_33_11_17.jpg', '17_33_12_20.jpg', '17_33_11_14.jpg', '17_33_09_2.jpg', '17_33_10_9.jpg', '17_33_11_16.jpg', '17_33_09_4.jpg', '17_33_10_11.jpg']\n",
      "['IT5666_Phan_Hoang.mp3', 'IT3100_Phan.mp3']\n"
     ]
    }
   ],
   "source": [
    "for root, dirs, files in os.walk(\"data\"):\n",
    "    print(files)"
   ],
   "metadata": {
    "collapsed": false,
    "pycharm": {
     "name": "#%%\n"
    }
   }
  },
  {
   "cell_type": "code",
   "execution_count": 13,
   "outputs": [],
   "source": [
    "path_image = paths.list_images(\"data/image_employees/\")"
   ],
   "metadata": {
    "collapsed": false,
    "pycharm": {
     "name": "#%%\n"
    }
   }
  },
  {
   "cell_type": "code",
   "execution_count": 15,
   "outputs": [
    {
     "data": {
      "text/plain": "['data/image_employees/Marketing/Phan/00_50_27_16.jpg',\n 'data/image_employees/Marketing/Phan/00_50_27_19.jpg',\n 'data/image_employees/Marketing/Phan/00_50_27_20.jpg',\n 'data/image_employees/Marketing/Phan/00_50_28_21.jpg',\n 'data/image_employees/Marketing/Phan/00_50_26_13.jpg',\n 'data/image_employees/Marketing/Phan/00_50_26_15.jpg',\n 'data/image_employees/Marketing/Phan/00_50_24_6.jpg',\n 'data/image_employees/Marketing/Phan/00_50_26_14.jpg',\n 'data/image_employees/Marketing/Phan/00_50_25_7.jpg',\n 'data/image_employees/Marketing/Phan/00_50_27_17.jpg',\n 'data/image_employees/Marketing/Phan/00_50_26_12.jpg',\n 'data/image_employees/Marketing/Phan/00_50_24_4.jpg',\n 'data/image_employees/Marketing/Phan/00_50_25_9.jpg',\n 'data/image_employees/Marketing/Phan/00_50_24_5.jpg',\n 'data/image_employees/Marketing/Phan/00_50_25_8.jpg',\n 'data/image_employees/Marketing/Phan/00_50_27_18.jpg',\n 'data/image_employees/Marketing/Phan/00_50_24_2.jpg',\n 'data/image_employees/Marketing/Phan/00_50_24_3.jpg',\n 'data/image_employees/Marketing/Phan/00_50_25_11.jpg',\n 'data/image_employees/Marketing/Phan/00_50_25_10.jpg',\n 'data/image_employees/Marketing/Phan/00_50_23_1.jpg',\n 'data/image_employees/Sales/Phan_Hoang/17_33_12_21.jpg',\n 'data/image_employees/Sales/Phan_Hoang/17_33_10_12.jpg',\n 'data/image_employees/Sales/Phan_Hoang/17_33_10_8.jpg',\n 'data/image_employees/Sales/Phan_Hoang/17_33_09_3.jpg',\n 'data/image_employees/Sales/Phan_Hoang/17_33_11_13.jpg',\n 'data/image_employees/Sales/Phan_Hoang/17_33_09_7.jpg',\n 'data/image_employees/Sales/Phan_Hoang/17_33_09_5.jpg',\n 'data/image_employees/Sales/Phan_Hoang/17_33_11_15.jpg',\n 'data/image_employees/Sales/Phan_Hoang/17_33_10_10.jpg',\n 'data/image_employees/Sales/Phan_Hoang/17_33_12_19.jpg',\n 'data/image_employees/Sales/Phan_Hoang/17_33_12_18.jpg',\n 'data/image_employees/Sales/Phan_Hoang/17_33_08_1.jpg',\n 'data/image_employees/Sales/Phan_Hoang/17_33_09_6.jpg',\n 'data/image_employees/Sales/Phan_Hoang/17_33_11_17.jpg',\n 'data/image_employees/Sales/Phan_Hoang/17_33_12_20.jpg',\n 'data/image_employees/Sales/Phan_Hoang/17_33_11_14.jpg',\n 'data/image_employees/Sales/Phan_Hoang/17_33_09_2.jpg',\n 'data/image_employees/Sales/Phan_Hoang/17_33_10_9.jpg',\n 'data/image_employees/Sales/Phan_Hoang/17_33_11_16.jpg',\n 'data/image_employees/Sales/Phan_Hoang/17_33_09_4.jpg',\n 'data/image_employees/Sales/Phan_Hoang/17_33_10_11.jpg']"
     },
     "execution_count": 15,
     "metadata": {},
     "output_type": "execute_result"
    }
   ],
   "source": [
    "list(path_image)"
   ],
   "metadata": {
    "collapsed": false,
    "pycharm": {
     "name": "#%%\n"
    }
   }
  },
  {
   "cell_type": "code",
   "execution_count": 16,
   "outputs": [
    {
     "data": {
      "text/plain": "3"
     },
     "execution_count": 16,
     "metadata": {},
     "output_type": "execute_result"
    }
   ],
   "source": [
    "a = [1, 2, 3]\n",
    "a[-1]"
   ],
   "metadata": {
    "collapsed": false,
    "pycharm": {
     "name": "#%%\n"
    }
   }
  },
  {
   "cell_type": "code",
   "execution_count": 17,
   "outputs": [],
   "source": [
    "os.mkdir(\"a.py\")"
   ],
   "metadata": {
    "collapsed": false,
    "pycharm": {
     "name": "#%%\n"
    }
   }
  },
  {
   "cell_type": "code",
   "execution_count": null,
   "outputs": [],
   "source": [],
   "metadata": {
    "collapsed": false,
    "pycharm": {
     "name": "#%%\n"
    }
   }
  }
 ],
 "metadata": {
  "kernelspec": {
   "display_name": "Python 3",
   "language": "python",
   "name": "python3"
  },
  "language_info": {
   "codemirror_mode": {
    "name": "ipython",
    "version": 2
   },
   "file_extension": ".py",
   "mimetype": "text/x-python",
   "name": "python",
   "nbconvert_exporter": "python",
   "pygments_lexer": "ipython2",
   "version": "2.7.6"
  }
 },
 "nbformat": 4,
 "nbformat_minor": 0
}